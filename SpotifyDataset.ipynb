{
  "nbformat": 4,
  "nbformat_minor": 0,
  "metadata": {
    "colab": {
      "provenance": []
    },
    "kernelspec": {
      "name": "python3",
      "display_name": "Python 3"
    },
    "language_info": {
      "name": "python"
    }
  },
  "cells": [
    {
      "cell_type": "code",
      "execution_count": 1,
      "metadata": {
        "id": "qIfW7qdqVk-t",
        "outputId": "24589119-c95b-4dcb-fac3-cd516d521a4d",
        "colab": {
          "base_uri": "https://localhost:8080/"
        }
      },
      "outputs": [
        {
          "output_type": "stream",
          "name": "stdout",
          "text": [
            "Cloning into 'SpotifyGroupProject'...\n",
            "remote: Enumerating objects: 11, done.\u001b[K\n",
            "remote: Counting objects: 100% (11/11), done.\u001b[K\n",
            "remote: Compressing objects: 100% (10/10), done.\u001b[K\n",
            "remote: Total 11 (delta 2), reused 0 (delta 0), pack-reused 0 (from 0)\u001b[K\n",
            "Receiving objects: 100% (11/11), 3.02 MiB | 9.41 MiB/s, done.\n",
            "Resolving deltas: 100% (2/2), done.\n"
          ]
        }
      ],
      "source": [
        "!git clone https://github.com/ucsd-cse8a-ss22024/SpotifyGroupProject.git"
      ]
    },
    {
      "cell_type": "code",
      "source": [
        "!unzip SpotifyGroupProject/spotify_dataset.zip"
      ],
      "metadata": {
        "id": "upZLzRAe4YbC",
        "outputId": "94f5ada0-108c-40d3-947a-b0ea3dc30acf",
        "colab": {
          "base_uri": "https://localhost:8080/"
        }
      },
      "execution_count": 2,
      "outputs": [
        {
          "output_type": "stream",
          "name": "stdout",
          "text": [
            "Archive:  SpotifyGroupProject/spotify_dataset.zip\n",
            "  inflating: readme.md               \n",
            "  inflating: spotify_songs.csv       \n"
          ]
        }
      ]
    },
    {
      "cell_type": "code",
      "source": [
        "fn = 'spotify_songs.csv'"
      ],
      "metadata": {
        "id": "p7Vd9ZAQ4PqA"
      },
      "execution_count": 4,
      "outputs": []
    },
    {
      "cell_type": "code",
      "source": [],
      "metadata": {
        "id": "C_y5rJtq4fyx"
      },
      "execution_count": null,
      "outputs": []
    }
  ]
}